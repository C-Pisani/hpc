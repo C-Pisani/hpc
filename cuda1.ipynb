{
  "nbformat": 4,
  "nbformat_minor": 0,
  "metadata": {
    "colab": {
      "provenance": [],
      "authorship_tag": "ABX9TyOVbvxg5KqNgVmIuRBLbLNq",
      "include_colab_link": true
    },
    "kernelspec": {
      "name": "python3",
      "display_name": "Python 3"
    },
    "language_info": {
      "name": "python"
    },
    "accelerator": "GPU",
    "gpuClass": "standard"
  },
  "cells": [
    {
      "cell_type": "markdown",
      "metadata": {
        "id": "view-in-github",
        "colab_type": "text"
      },
      "source": [
        "<a href=\"https://colab.research.google.com/github/C-Pisani/hpc/blob/main/cuda1.ipynb\" target=\"_parent\"><img src=\"https://colab.research.google.com/assets/colab-badge.svg\" alt=\"Open In Colab\"/></a>"
      ]
    },
    {
      "cell_type": "code",
      "execution_count": 2,
      "metadata": {
        "colab": {
          "base_uri": "https://localhost:8080/"
        },
        "id": "jIIhMF1Stl8v",
        "outputId": "84a7cb73-1363-4db4-c25e-86b8abac0784"
      },
      "outputs": [
        {
          "output_type": "stream",
          "name": "stdout",
          "text": [
            "Writing add_numbers.cu\n"
          ]
        }
      ],
      "source": [
        "%%writefile add_numbers.cu\n",
        "\n",
        "#include <stdio.h>\n",
        "#include <stdlib.h>\n",
        "\n",
        "__global__ void add(int a, int b, int *c)\n",
        "{\n",
        "    *c = a + b;\n",
        "}\n",
        "\n",
        "int main()\n",
        "{\n",
        "    // Declare two variables\n",
        "    int a = 10;\n",
        "    int b = 15;\n",
        "    \n",
        "    // Declare a pointer to an intger to store the result on GPU\n",
        "    int *gpu_c;\n",
        "\n",
        "    // Allocate memory on GPU\n",
        "    cudaMalloc((void**)&gpu_c, sizeof(int));\n",
        "\n",
        "    // Call the add method\n",
        "    add<<<1,1>>>(a,b,gpu_c);\n",
        "\n",
        "    // Declare a pointer to store the result on CPU\n",
        "    int *cpu_c = (int *) malloc(sizeof(int));\n",
        "    \n",
        "    // Copy the result from the GPU to the CPU\n",
        "    cudaMemcpy(cpu_c, gpu_c, sizeof(int), cudaMemcpyDeviceToHost);\n",
        "\n",
        "    printf(\"%d + %d is %d\\n\", a, b, *cpu_c);\n",
        "\n",
        "    cudaFree(gpu_c);\n",
        "    free(cpu_c);\n",
        "\n",
        "    return 0;\n",
        "}"
      ]
    },
    {
      "cell_type": "code",
      "source": [],
      "metadata": {
        "id": "eOqjQ5yxudf8"
      },
      "execution_count": null,
      "outputs": []
    },
    {
      "cell_type": "code",
      "source": [
        "%%shell\n",
        "nvcc add_numbers.cu -o add_numbers; ./add_numbers"
      ],
      "metadata": {
        "colab": {
          "base_uri": "https://localhost:8080/"
        },
        "id": "5v-PmzVbuHtc",
        "outputId": "97aa9471-e6f2-4fbe-a8e4-71cf379b281a"
      },
      "execution_count": 4,
      "outputs": [
        {
          "output_type": "stream",
          "name": "stdout",
          "text": [
            "10 + 15 is 25\n"
          ]
        },
        {
          "output_type": "execute_result",
          "data": {
            "text/plain": []
          },
          "metadata": {},
          "execution_count": 4
        }
      ]
    },
    {
      "cell_type": "code",
      "source": [
        "%%shell\n",
        "nvcc new_add.cu -o new_add; ./new_add\n"
      ],
      "metadata": {
        "id": "c9NkAMmN48sK"
      },
      "execution_count": null,
      "outputs": []
    }
  ]
}